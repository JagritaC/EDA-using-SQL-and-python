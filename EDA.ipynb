{
 "cells": [
  {
   "cell_type": "code",
   "execution_count": 1,
   "id": "4a9382e1",
   "metadata": {},
   "outputs": [],
   "source": [
    "#Opening Datafile in csv format\n",
    "import pandas as pd\n",
    "data=pd.read_csv(\"Walmart.csv\")\n",
    "df=data.copy()"
   ]
  },
  {
   "cell_type": "code",
   "execution_count": 2,
   "id": "f203cf32",
   "metadata": {},
   "outputs": [
    {
     "data": {
      "text/plain": [
       "Store             int64\n",
       "Date             object\n",
       "Weekly_Sales    float64\n",
       "Holiday_Flag      int64\n",
       "Temperature     float64\n",
       "Fuel_Price      float64\n",
       "CPI             float64\n",
       "Unemployment    float64\n",
       "dtype: object"
      ]
     },
     "execution_count": 2,
     "metadata": {},
     "output_type": "execute_result"
    }
   ],
   "source": [
    "#Checking Data Types\n",
    "datatypes=data.dtypes\n",
    "datatypes"
   ]
  },
  {
   "cell_type": "code",
   "execution_count": 3,
   "id": "61712a0a",
   "metadata": {},
   "outputs": [
    {
     "data": {
      "text/plain": [
       "Store                    int64\n",
       "Date            datetime64[ns]\n",
       "Weekly_Sales           float64\n",
       "Holiday_Flag             int64\n",
       "Temperature            float64\n",
       "Fuel_Price             float64\n",
       "CPI                    float64\n",
       "Unemployment           float64\n",
       "dtype: object"
      ]
     },
     "execution_count": 3,
     "metadata": {},
     "output_type": "execute_result"
    }
   ],
   "source": [
    "#Reset Data Type\n",
    "df['Date']=pd.to_datetime(df['Date'])\n",
    "datatypes=df.dtypes\n",
    "datatypes"
   ]
  },
  {
   "cell_type": "code",
   "execution_count": 4,
   "id": "0ff96b48",
   "metadata": {},
   "outputs": [
    {
     "name": "stdout",
     "output_type": "stream",
     "text": [
      "The data is complete. There is no missing values\n"
     ]
    }
   ],
   "source": [
    "#Checking Missing Values\n",
    "def Completness_test(df):\n",
    "    missing_values_sum=pd.isnull(df).any(axis=1).sum()\n",
    "    total_sum=df.any(axis=1).sum()\n",
    "    Completeness_score=(missing_values_sum/total_sum)*100\n",
    "    Complete_score=(float(Completeness_score))\n",
    "    if Complete_score!=0:\n",
    "        print(Complete_score)\n",
    "        print(\" \\nCount total NaN at each column in a DataFrame : \\n\\n\",df.isnull().sum()) \n",
    "    else:\n",
    "        print(\"The data is complete. There is no missing values\")\n",
    "CT=Completness_test(df)"
   ]
  },
  {
   "cell_type": "code",
   "execution_count": 5,
   "id": "cd2aded0",
   "metadata": {},
   "outputs": [
    {
     "name": "stdout",
     "output_type": "stream",
     "text": [
      "The data is unique. There is no duplicate values\n"
     ]
    }
   ],
   "source": [
    "#Checking Duplicates\n",
    "def Duplication_test(df):\n",
    "    duplicate_values_sum=df.duplicated().any(axis=0).sum()\n",
    "    total_sum=df.any(axis=1).sum()\n",
    "    Duplication_percent=(duplicate_values_sum/total_sum)*100\n",
    "    Duplication_percent=float(Duplication_percent)\n",
    "    if Duplication_percent!=0:\n",
    "        print(Duplication_percent)\n",
    "        print(\" \\nCount total NaN at each column in a DataFrame : \\n\\n\",df.duplicated().sum()) \n",
    "    else:\n",
    "        print(\"The data is unique. There is no duplicate values\")\n",
    "Duplication_test(df)"
   ]
  },
  {
   "cell_type": "code",
   "execution_count": 6,
   "id": "054955e0",
   "metadata": {},
   "outputs": [
    {
     "name": "stdout",
     "output_type": "stream",
     "text": [
      "Store\n",
      "Total outliers percent: 0\n",
      "Holiday_Flag\n",
      "Total outliers percent: 6\n"
     ]
    }
   ],
   "source": [
    "# Checking outliers\n",
    "import numpy as np\n",
    "def Outlier_Detect(data):\n",
    "    data_mean, data_std = np.mean(data), np.std(data)\n",
    "    cut_off = data_std * 3\n",
    "    lower, upper = data_mean - cut_off, data_mean + cut_off\n",
    "    outliers = [x for x in data if x < lower or x > upper]\n",
    "    outliers_removed = [x for x in data if x >= lower and x <= upper]\n",
    "    Percentage=(len(outliers)/(len(outliers)+len(outliers_removed)))*100\n",
    "    print('Total outliers percent: %d' % Percentage)\n",
    "for i in df:\n",
    "    if df[i].dtype=='int64':\n",
    "        print(i)\n",
    "        Outlier_Detect(df[i])"
   ]
  },
  {
   "cell_type": "code",
   "execution_count": 7,
   "id": "9d5c5e2b",
   "metadata": {},
   "outputs": [
    {
     "data": {
      "text/plain": [
       "array([0, 1], dtype=int64)"
      ]
     },
     "execution_count": 7,
     "metadata": {},
     "output_type": "execute_result"
    }
   ],
   "source": [
    "df['Holiday_Flag'].unique()"
   ]
  },
  {
   "cell_type": "code",
   "execution_count": 8,
   "id": "e98bee2f",
   "metadata": {},
   "outputs": [
    {
     "data": {
      "text/html": [
       "<div>\n",
       "<style scoped>\n",
       "    .dataframe tbody tr th:only-of-type {\n",
       "        vertical-align: middle;\n",
       "    }\n",
       "\n",
       "    .dataframe tbody tr th {\n",
       "        vertical-align: top;\n",
       "    }\n",
       "\n",
       "    .dataframe thead th {\n",
       "        text-align: right;\n",
       "    }\n",
       "</style>\n",
       "<table border=\"1\" class=\"dataframe\">\n",
       "  <thead>\n",
       "    <tr style=\"text-align: right;\">\n",
       "      <th></th>\n",
       "      <th>Store</th>\n",
       "      <th>Date</th>\n",
       "      <th>Weekly_Sales</th>\n",
       "      <th>Holiday_Flag</th>\n",
       "      <th>Temperature</th>\n",
       "      <th>Fuel_Price</th>\n",
       "      <th>CPI</th>\n",
       "      <th>Unemployment</th>\n",
       "      <th>day</th>\n",
       "      <th>month</th>\n",
       "      <th>year</th>\n",
       "      <th>quarter</th>\n",
       "    </tr>\n",
       "  </thead>\n",
       "  <tbody>\n",
       "    <tr>\n",
       "      <th>0</th>\n",
       "      <td>1</td>\n",
       "      <td>2010-05-02</td>\n",
       "      <td>1643690.90</td>\n",
       "      <td>0</td>\n",
       "      <td>42.31</td>\n",
       "      <td>2.572</td>\n",
       "      <td>211.096358</td>\n",
       "      <td>8.106</td>\n",
       "      <td>2</td>\n",
       "      <td>5</td>\n",
       "      <td>2010</td>\n",
       "      <td>2</td>\n",
       "    </tr>\n",
       "    <tr>\n",
       "      <th>1</th>\n",
       "      <td>1</td>\n",
       "      <td>2010-12-02</td>\n",
       "      <td>1641957.44</td>\n",
       "      <td>1</td>\n",
       "      <td>38.51</td>\n",
       "      <td>2.548</td>\n",
       "      <td>211.242170</td>\n",
       "      <td>8.106</td>\n",
       "      <td>2</td>\n",
       "      <td>12</td>\n",
       "      <td>2010</td>\n",
       "      <td>4</td>\n",
       "    </tr>\n",
       "    <tr>\n",
       "      <th>2</th>\n",
       "      <td>1</td>\n",
       "      <td>2010-02-19</td>\n",
       "      <td>1611968.17</td>\n",
       "      <td>0</td>\n",
       "      <td>39.93</td>\n",
       "      <td>2.514</td>\n",
       "      <td>211.289143</td>\n",
       "      <td>8.106</td>\n",
       "      <td>19</td>\n",
       "      <td>2</td>\n",
       "      <td>2010</td>\n",
       "      <td>1</td>\n",
       "    </tr>\n",
       "    <tr>\n",
       "      <th>3</th>\n",
       "      <td>1</td>\n",
       "      <td>2010-02-26</td>\n",
       "      <td>1409727.59</td>\n",
       "      <td>0</td>\n",
       "      <td>46.63</td>\n",
       "      <td>2.561</td>\n",
       "      <td>211.319643</td>\n",
       "      <td>8.106</td>\n",
       "      <td>26</td>\n",
       "      <td>2</td>\n",
       "      <td>2010</td>\n",
       "      <td>1</td>\n",
       "    </tr>\n",
       "    <tr>\n",
       "      <th>4</th>\n",
       "      <td>1</td>\n",
       "      <td>2010-05-03</td>\n",
       "      <td>1554806.68</td>\n",
       "      <td>0</td>\n",
       "      <td>46.50</td>\n",
       "      <td>2.625</td>\n",
       "      <td>211.350143</td>\n",
       "      <td>8.106</td>\n",
       "      <td>3</td>\n",
       "      <td>5</td>\n",
       "      <td>2010</td>\n",
       "      <td>2</td>\n",
       "    </tr>\n",
       "  </tbody>\n",
       "</table>\n",
       "</div>"
      ],
      "text/plain": [
       "   Store       Date  Weekly_Sales  Holiday_Flag  Temperature  Fuel_Price  \\\n",
       "0      1 2010-05-02    1643690.90             0        42.31       2.572   \n",
       "1      1 2010-12-02    1641957.44             1        38.51       2.548   \n",
       "2      1 2010-02-19    1611968.17             0        39.93       2.514   \n",
       "3      1 2010-02-26    1409727.59             0        46.63       2.561   \n",
       "4      1 2010-05-03    1554806.68             0        46.50       2.625   \n",
       "\n",
       "          CPI  Unemployment  day  month  year  quarter  \n",
       "0  211.096358         8.106    2      5  2010        2  \n",
       "1  211.242170         8.106    2     12  2010        4  \n",
       "2  211.289143         8.106   19      2  2010        1  \n",
       "3  211.319643         8.106   26      2  2010        1  \n",
       "4  211.350143         8.106    3      5  2010        2  "
      ]
     },
     "execution_count": 8,
     "metadata": {},
     "output_type": "execute_result"
    }
   ],
   "source": [
    "df['day'] = df['Date'].dt.day\n",
    "df['month'] = df['Date'].dt.month\n",
    "df['year'] = df['Date'].dt.year\n",
    "df['quarter'] = df['Date'].dt.quarter\n",
    "df.head()"
   ]
  },
  {
   "cell_type": "code",
   "execution_count": 9,
   "id": "363e8011",
   "metadata": {},
   "outputs": [],
   "source": [
    "#Importing SQL in Python\n",
    "#! pip install psycopg2-binary\n",
    "#! pip install snowflake-connector-python\n",
    "#! pip install mysql-connector-python"
   ]
  },
  {
   "cell_type": "code",
   "execution_count": 10,
   "id": "0913ad6c",
   "metadata": {},
   "outputs": [],
   "source": [
    "#Converting DataFrame to SQL\n",
    "import pandas as pd\n",
    "import sqlite3\n",
    "conn = sqlite3.connect('test_database_2') \n",
    "c = conn.cursor()\n",
    "c.execute('CREATE TABLE IF NOT EXISTS sales (Store, Date, Weekly_Sales, Holiday_Flag, Temperature, Fuel_Price, CPI, Unemployment,day, month,year,quarter)')\n",
    "conn.commit()\n",
    "df.to_sql('sales', conn, if_exists='replace', index = False)"
   ]
  },
  {
   "cell_type": "code",
   "execution_count": 11,
   "id": "b685fb46",
   "metadata": {},
   "outputs": [
    {
     "name": "stdout",
     "output_type": "stream",
     "text": [
      "    Year  Quarter  Store  Weekly_Sales\n",
      "0   2010        1     14    2495630.51\n",
      "1   2010        2     14    2623469.95\n",
      "2   2010        3     14    2370116.52\n",
      "3   2010        4     14    3818686.45\n",
      "4   2011        1      4    2316495.56\n",
      "5   2011        2     20    2351143.07\n",
      "6   2011        3     20    2546123.78\n",
      "7   2011        4      4    3676388.98\n",
      "8   2012        1      4    2427640.17\n",
      "9   2012        2     20    2565259.92\n",
      "10  2012        3      4    2283540.30\n",
      "11  2012        4     20    2462978.28\n"
     ]
    }
   ],
   "source": [
    "#Highest sales according to year and shops which made it\n",
    "conn = sqlite3.connect('test_database_2')\n",
    "c.execute('''\n",
    "          SELECT\n",
    "          year,quarter,Store,max(Weekly_Sales)\n",
    "          FROM sales\n",
    "          GROUP BY year,quarter\n",
    "          ORDER BY (year) ASC\n",
    "          ''')\n",
    "df2= pd.DataFrame(c.fetchall(), columns = ['Year','Quarter','Store','Weekly_Sales'])\n",
    "print (df2)"
   ]
  },
  {
   "cell_type": "code",
   "execution_count": 12,
   "id": "37e561ac",
   "metadata": {},
   "outputs": [
    {
     "name": "stdout",
     "output_type": "stream",
     "text": [
      "[(14, 3818686.45)]\n"
     ]
    }
   ],
   "source": [
    "#Highest sales\n",
    "conn = sqlite3.connect('test_database_2')\n",
    "c.execute('''\n",
    "          SELECT\n",
    "          Store, max(Weekly_Sales)\n",
    "          FROM sales\n",
    "          ''')\n",
    "print(c.fetchall())"
   ]
  },
  {
   "cell_type": "code",
   "execution_count": 13,
   "id": "2ec7c261",
   "metadata": {},
   "outputs": [
    {
     "name": "stdout",
     "output_type": "stream",
     "text": [
      "   Quarter  Year  Weekly_Sales\n",
      "0        1  2012  5.457900e+08\n",
      "1        2  2012  6.172141e+08\n",
      "2        3  2012  5.559950e+08\n",
      "3        4  2012  2.811338e+08\n"
     ]
    }
   ],
   "source": [
    "#Highest sales\n",
    "conn = sqlite3.connect('test_database_2')\n",
    "c.execute('''\n",
    "          SELECT\n",
    "          quarter,year,sum(Weekly_Sales)\n",
    "          FROM sales\n",
    "          WHERE year=2012\n",
    "          GROUP BY quarter,year\n",
    "          ''')\n",
    "df3= pd.DataFrame(c.fetchall(), columns = ['Quarter','Year','Weekly_Sales'])\n",
    "print (df3)"
   ]
  },
  {
   "cell_type": "code",
   "execution_count": 14,
   "id": "d3f1984a",
   "metadata": {},
   "outputs": [
    {
     "name": "stdout",
     "output_type": "stream",
     "text": [
      "[(2012, 2000132859.3500023)]\n",
      "    Year  Weekly_Sales  Store   Percent\n",
      "3   2012   92771189.24      4  4.638251\n",
      "19  2012   89827709.38     20  4.491087\n",
      "12  2012   86707455.02     13  4.335085\n",
      "1   2012   81496695.37      2  4.074564\n",
      "9   2012   78228616.94     10  3.911171\n",
      "13  2012   77441398.26     14  3.871813\n",
      "26  2012   71920056.12     27  3.595764\n",
      "0   2012   68202058.02      1  3.409876\n",
      "5   2012   66315047.00      6  3.315532\n",
      "38  2012   65885662.85     39  3.294064\n"
     ]
    }
   ],
   "source": [
    "conn = sqlite3.connect('test_database_2')\n",
    "c.execute('''\n",
    "          SELECT\n",
    "          year,sum(Weekly_Sales),Store\n",
    "          FROM sales\n",
    "          WHERE year=2012\n",
    "          GROUP BY Store\n",
    "          ''')\n",
    "df4= pd.DataFrame(c.fetchall(), columns = ['Year','Weekly_Sales','Store'])\n",
    "conn = sqlite3.connect('test_database_2')\n",
    "c.execute('''\n",
    "          SELECT\n",
    "          year,sum(Weekly_Sales)\n",
    "          FROM sales\n",
    "          WHERE year=2012\n",
    "          ''')\n",
    "d1=(c.fetchall())\n",
    "print(d1)\n",
    "#Top 10% contributor\n",
    "df4['Percent']=(df4['Weekly_Sales']/2000132859.3500023)*100\n",
    "df4.sort_values(\"Percent\", axis = 0, ascending = False,inplace = True, na_position ='last')\n",
    "df5=(df4.head(10%len(df4['Percent'])))\n",
    "print(df5)"
   ]
  },
  {
   "cell_type": "code",
   "execution_count": 15,
   "id": "735b0f7c",
   "metadata": {},
   "outputs": [
    {
     "name": "stdout",
     "output_type": "stream",
     "text": [
      "[(2011, 2448200007.3499975)]\n",
      "    Year  Weekly_Sales  Store   Percent\n",
      "3   2011  1.110923e+08      4  4.537713\n",
      "19  2011  1.098370e+08     20  4.486439\n",
      "13  2011  1.060963e+08     14  4.333644\n",
      "12  2011  1.045375e+08     13  4.269974\n",
      "9   2011  9.891689e+07     10  4.040393\n",
      "1   2011  9.860788e+07      2  4.027771\n",
      "26  2011  9.192268e+07     27  3.754705\n",
      "0   2011  8.092192e+07      1  3.305364\n",
      "5   2011  8.052876e+07      6  3.289305\n",
      "38  2011  7.577760e+07     39  3.095237\n"
     ]
    }
   ],
   "source": [
    "conn = sqlite3.connect('test_database_2')\n",
    "c.execute('''\n",
    "          SELECT\n",
    "          year,sum(Weekly_Sales),Store\n",
    "          FROM sales\n",
    "          WHERE year=2011\n",
    "          GROUP BY Store\n",
    "          ''')\n",
    "df6= pd.DataFrame(c.fetchall(), columns = ['Year','Weekly_Sales','Store'])\n",
    "conn = sqlite3.connect('test_database_2')\n",
    "c.execute('''\n",
    "          SELECT\n",
    "          year,sum(Weekly_Sales)\n",
    "          FROM sales\n",
    "          WHERE year=2011\n",
    "          ''')\n",
    "d7=(c.fetchall())\n",
    "print(d7)\n",
    "#Top 10% contributor\n",
    "df6['Percent']=(df6['Weekly_Sales']/2448200007.3499975)*100\n",
    "df6.sort_values(\"Percent\", axis = 0, ascending = False,inplace = True, na_position ='last')\n",
    "df7=(df6.head(10%len(df4['Percent'])))\n",
    "print(df7)"
   ]
  },
  {
   "cell_type": "code",
   "execution_count": 16,
   "id": "26922f93",
   "metadata": {},
   "outputs": [
    {
     "name": "stdout",
     "output_type": "stream",
     "text": [
      "[(2010, 2288886120.41)]\n",
      "    Year  Weekly_Sales  Store   Percent\n",
      "3   2010  9.568047e+07      4  4.853553\n",
      "19  2010  1.017331e+08     20  4.798710\n",
      "13  2010  1.054622e+08     14  4.635280\n",
      "12  2010  9.527274e+07     13  4.567178\n",
      "9   2010  9.447220e+07     10  4.321617\n",
      "1   2010  9.527786e+07      2  4.308117\n",
      "26  2010  9.001318e+07     27  4.016044\n",
      "0   2010  7.327883e+07      1  3.535428\n",
      "5   2010  7.691232e+07      6  3.518251\n",
      "38  2010  6.578228e+07     39  3.310676\n"
     ]
    }
   ],
   "source": [
    "conn = sqlite3.connect('test_database_2')\n",
    "c.execute('''\n",
    "          SELECT\n",
    "          year,sum(Weekly_Sales),Store\n",
    "          FROM sales\n",
    "          WHERE year=2010\n",
    "          GROUP BY Store\n",
    "          ''')\n",
    "df8= pd.DataFrame(c.fetchall(), columns = ['Year','Weekly_Sales','Store'])\n",
    "conn = sqlite3.connect('test_database_2')\n",
    "c.execute('''\n",
    "          SELECT\n",
    "          year,sum(Weekly_Sales)\n",
    "          FROM sales\n",
    "          WHERE year=2010\n",
    "          ''')\n",
    "d8=(c.fetchall())\n",
    "print(d8)\n",
    "#Top 10% contributor\n",
    "df8['Percent']=(df6['Weekly_Sales']/2288886120.41)*100\n",
    "df8.sort_values(\"Percent\", axis = 0, ascending = False,inplace = True, na_position ='last')\n",
    "df9=(df8.head(10%len(df4['Percent'])))\n",
    "print(df9)"
   ]
  },
  {
   "cell_type": "code",
   "execution_count": 17,
   "id": "ad5ca4d9",
   "metadata": {},
   "outputs": [
    {
     "name": "stdout",
     "output_type": "stream",
     "text": [
      "     Quarter  Year  Weekly_Sales  Store\n",
      "0          1  2012   18951097.69      1\n",
      "1          2  2012   21036965.58      1\n",
      "2          3  2012   18633209.98      1\n",
      "3          4  2012    9580784.77      1\n",
      "4          1  2012   22543946.63      2\n",
      "..       ...   ...           ...    ...\n",
      "175        4  2012    2022983.83     44\n",
      "176        1  2012    9073434.67     45\n",
      "177        2  2012   10278900.05     45\n",
      "178        3  2012    8851242.32     45\n",
      "179        4  2012    4520053.13     45\n",
      "\n",
      "[180 rows x 4 columns]\n"
     ]
    }
   ],
   "source": [
    "conn = sqlite3.connect('test_database_2')\n",
    "c.execute('''\n",
    "          SELECT\n",
    "          quarter,year,sum(Weekly_Sales),Store\n",
    "          FROM sales\n",
    "          WHERE year=2012\n",
    "          GROUP BY Store,quarter\n",
    "          ''')\n",
    "df10= pd.DataFrame(c.fetchall(), columns = ['Quarter','Year','Weekly_Sales','Store'])\n",
    "print (df10)"
   ]
  },
  {
   "cell_type": "code",
   "execution_count": 18,
   "id": "bd3cac4a",
   "metadata": {},
   "outputs": [
    {
     "name": "stdout",
     "output_type": "stream",
     "text": [
      "[4, 20, 13, 2, 10, 14, 27, 1, 6, 39] [4, 20, 14, 13, 10, 2, 27, 1, 6, 39] [4, 20, 14, 13, 10, 2, 27, 1, 6, 39]\n"
     ]
    }
   ],
   "source": [
    "L1=list(df5['Store'])\n",
    "L2=list(df7['Store'])\n",
    "L3=list(df9['Store'])\n",
    "print(L1,L2,L3)"
   ]
  },
  {
   "cell_type": "code",
   "execution_count": 19,
   "id": "d7d0a4dd",
   "metadata": {},
   "outputs": [
    {
     "data": {
      "text/html": [
       "<div>\n",
       "<style scoped>\n",
       "    .dataframe tbody tr th:only-of-type {\n",
       "        vertical-align: middle;\n",
       "    }\n",
       "\n",
       "    .dataframe tbody tr th {\n",
       "        vertical-align: top;\n",
       "    }\n",
       "\n",
       "    .dataframe thead th {\n",
       "        text-align: right;\n",
       "    }\n",
       "</style>\n",
       "<table border=\"1\" class=\"dataframe\">\n",
       "  <thead>\n",
       "    <tr style=\"text-align: right;\">\n",
       "      <th></th>\n",
       "      <th>Store</th>\n",
       "      <th>Date</th>\n",
       "      <th>Weekly_Sales</th>\n",
       "      <th>Holiday_Flag</th>\n",
       "      <th>Temperature</th>\n",
       "      <th>Fuel_Price</th>\n",
       "      <th>CPI</th>\n",
       "      <th>Unemployment</th>\n",
       "      <th>day</th>\n",
       "      <th>month</th>\n",
       "      <th>year</th>\n",
       "      <th>quarter</th>\n",
       "    </tr>\n",
       "  </thead>\n",
       "  <tbody>\n",
       "    <tr>\n",
       "      <th>0</th>\n",
       "      <td>1</td>\n",
       "      <td>2010-05-02</td>\n",
       "      <td>1643690.90</td>\n",
       "      <td>0</td>\n",
       "      <td>42.31</td>\n",
       "      <td>2.572</td>\n",
       "      <td>211.096358</td>\n",
       "      <td>8.106</td>\n",
       "      <td>2</td>\n",
       "      <td>5</td>\n",
       "      <td>2010</td>\n",
       "      <td>2</td>\n",
       "    </tr>\n",
       "    <tr>\n",
       "      <th>1</th>\n",
       "      <td>1</td>\n",
       "      <td>2010-12-02</td>\n",
       "      <td>1641957.44</td>\n",
       "      <td>1</td>\n",
       "      <td>38.51</td>\n",
       "      <td>2.548</td>\n",
       "      <td>211.242170</td>\n",
       "      <td>8.106</td>\n",
       "      <td>2</td>\n",
       "      <td>12</td>\n",
       "      <td>2010</td>\n",
       "      <td>4</td>\n",
       "    </tr>\n",
       "    <tr>\n",
       "      <th>2</th>\n",
       "      <td>1</td>\n",
       "      <td>2010-02-19</td>\n",
       "      <td>1611968.17</td>\n",
       "      <td>0</td>\n",
       "      <td>39.93</td>\n",
       "      <td>2.514</td>\n",
       "      <td>211.289143</td>\n",
       "      <td>8.106</td>\n",
       "      <td>19</td>\n",
       "      <td>2</td>\n",
       "      <td>2010</td>\n",
       "      <td>1</td>\n",
       "    </tr>\n",
       "  </tbody>\n",
       "</table>\n",
       "</div>"
      ],
      "text/plain": [
       "   Store       Date  Weekly_Sales  Holiday_Flag  Temperature  Fuel_Price  \\\n",
       "0      1 2010-05-02    1643690.90             0        42.31       2.572   \n",
       "1      1 2010-12-02    1641957.44             1        38.51       2.548   \n",
       "2      1 2010-02-19    1611968.17             0        39.93       2.514   \n",
       "\n",
       "          CPI  Unemployment  day  month  year  quarter  \n",
       "0  211.096358         8.106    2      5  2010        2  \n",
       "1  211.242170         8.106    2     12  2010        4  \n",
       "2  211.289143         8.106   19      2  2010        1  "
      ]
     },
     "execution_count": 19,
     "metadata": {},
     "output_type": "execute_result"
    }
   ],
   "source": [
    "df.head(3)"
   ]
  },
  {
   "cell_type": "code",
   "execution_count": 20,
   "id": "847fc7f2",
   "metadata": {},
   "outputs": [
    {
     "name": "stdout",
     "output_type": "stream",
     "text": [
      "-0.06381001317946962\n",
      "0.009463786314475168\n",
      "-0.07263416204017649\n",
      "-0.10617608965795382\n"
     ]
    }
   ],
   "source": [
    "def Pearson_correlation(X,Y):\n",
    "    if len(X)==len(Y):\n",
    "        Sum_xy = sum((X-X.mean())*(Y-Y.mean()))\n",
    "        Sum_x_squared = sum((X-X.mean())**2)\n",
    "        Sum_y_squared = sum((Y-Y.mean())**2)       \n",
    "        corr = Sum_xy / np.sqrt(Sum_x_squared * Sum_y_squared)\n",
    "    return corr\n",
    "for i in (df['Temperature'],df['Fuel_Price'],df['CPI'],df['Unemployment']):  \n",
    "    print(Pearson_correlation(df['Weekly_Sales'],i))"
   ]
  },
  {
   "cell_type": "code",
   "execution_count": null,
   "id": "f1c5304f",
   "metadata": {},
   "outputs": [],
   "source": []
  }
 ],
 "metadata": {
  "kernelspec": {
   "display_name": "Python 3 (ipykernel)",
   "language": "python",
   "name": "python3"
  },
  "language_info": {
   "codemirror_mode": {
    "name": "ipython",
    "version": 3
   },
   "file_extension": ".py",
   "mimetype": "text/x-python",
   "name": "python",
   "nbconvert_exporter": "python",
   "pygments_lexer": "ipython3",
   "version": "3.9.7"
  }
 },
 "nbformat": 4,
 "nbformat_minor": 5
}
